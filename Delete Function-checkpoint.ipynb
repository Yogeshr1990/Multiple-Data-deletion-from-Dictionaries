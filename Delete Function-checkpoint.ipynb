{
 "cells": [
  {
   "cell_type": "markdown",
   "id": "1ad726a6",
   "metadata": {},
   "source": [
    "### Deleting Data from Dictionary in Python using while loop"
   ]
  },
  {
   "cell_type": "code",
   "execution_count": null,
   "id": "908ec40d",
   "metadata": {},
   "outputs": [],
   "source": [
    "# Hello Friends, Welcome to our program!"
   ]
  },
  {
   "cell_type": "code",
   "execution_count": null,
   "id": "50a5a886",
   "metadata": {},
   "outputs": [],
   "source": [
    "# Today we will see how to delete multiple items from dictionaries using while loop"
   ]
  },
  {
   "cell_type": "code",
   "execution_count": 6,
   "id": "b7aa691d",
   "metadata": {},
   "outputs": [],
   "source": [
    "Dict1 = {1:'Apple',2:'Grapes',3:'Mango',4:'Papaya',5:'Orange',6:'Pear'}"
   ]
  },
  {
   "cell_type": "code",
   "execution_count": null,
   "id": "a92fce55",
   "metadata": {},
   "outputs": [],
   "source": [
    "# We will be using above Dictionary for desired result"
   ]
  },
  {
   "cell_type": "code",
   "execution_count": 7,
   "id": "b8868a89",
   "metadata": {},
   "outputs": [
    {
     "name": "stdout",
     "output_type": "stream",
     "text": [
      "How many times you want to delete the Data: 2\n",
      "Which Key you want to delete: 1\n",
      "{2: 'Grapes', 3: 'Mango', 4: 'Papaya', 5: 'Orange', 6: 'Pear'}\n",
      "Which Key you want to delete: 3\n",
      "{2: 'Grapes', 4: 'Papaya', 5: 'Orange', 6: 'Pear'}\n"
     ]
    }
   ],
   "source": [
    "# Lets type the code\n",
    "\n",
    "a = int(input('How many times you want to delete the Data: '))\n",
    "\n",
    "i = 1\n",
    "\n",
    "while i <= a:\n",
    "    b = int(input('Which Key you want to delete: '))\n",
    "    del Dict1[b]\n",
    "    print(Dict1)\n",
    "    i = i + 1\n",
    "    "
   ]
  },
  {
   "cell_type": "code",
   "execution_count": 164,
   "id": "97655674",
   "metadata": {},
   "outputs": [],
   "source": [
    "# So, First we mentioned we want to delete Key 1 and later we mentioned Key 3 and we also mentioned we want to run \n",
    "# the code 2 times, So we got our desired output = {2: 'Grapes', 4: 'Papaya', 5: 'Orange', 6: 'Pear'}"
   ]
  },
  {
   "cell_type": "code",
   "execution_count": null,
   "id": "52c3571b",
   "metadata": {},
   "outputs": [],
   "source": []
  },
  {
   "cell_type": "code",
   "execution_count": null,
   "id": "589605e8",
   "metadata": {},
   "outputs": [],
   "source": []
  },
  {
   "cell_type": "code",
   "execution_count": null,
   "id": "667fbd32",
   "metadata": {},
   "outputs": [],
   "source": []
  },
  {
   "cell_type": "code",
   "execution_count": null,
   "id": "82b1257d",
   "metadata": {},
   "outputs": [],
   "source": []
  },
  {
   "cell_type": "code",
   "execution_count": null,
   "id": "a2924ac0",
   "metadata": {},
   "outputs": [],
   "source": []
  },
  {
   "cell_type": "code",
   "execution_count": null,
   "id": "48e8c8f4",
   "metadata": {},
   "outputs": [],
   "source": []
  }
 ],
 "metadata": {
  "kernelspec": {
   "display_name": "Python 3 (ipykernel)",
   "language": "python",
   "name": "python3"
  },
  "language_info": {
   "codemirror_mode": {
    "name": "ipython",
    "version": 3
   },
   "file_extension": ".py",
   "mimetype": "text/x-python",
   "name": "python",
   "nbconvert_exporter": "python",
   "pygments_lexer": "ipython3",
   "version": "3.9.7"
  }
 },
 "nbformat": 4,
 "nbformat_minor": 5
}
